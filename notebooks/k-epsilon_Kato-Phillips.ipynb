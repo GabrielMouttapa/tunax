{
 "cells": [
  {
   "cell_type": "markdown",
   "metadata": {},
   "source": [
    "In this notebook, we will demonstrate how to use _Tunax_ to calibrate the parameters of the $k-\\varepsilon$ closure model. Our approach utilizes a _perfect-model_ framework, based on the idealized Kato-Phillips [1] case. This case is characterized by the absence of heat flux and the presence of uniform zonal wind forcing.\n",
    "\n",
    "In a _perfect-model_ framework, the “observations” used for calibration are actually outputs from a model run, generated using a specific set of $k-\\varepsilon$ parameters. The goal is for _Tunax_ to successfully retrieve these original parameters through the calibration process."
   ]
  },
  {
   "cell_type": "markdown",
   "metadata": {},
   "source": [
    "# Kato-Phillips model run\n",
    "First, we will run the single column model that goes with _Tunax_, with the $k-\\varepsilon$ closure and on the Kato-Phillips case."
   ]
  },
  {
   "cell_type": "code",
   "execution_count": null,
   "metadata": {},
   "outputs": [],
   "source": [
    "import os\n",
    "import jax.numpy as jnp\n",
    "os.chdir('../src')\n",
    "from grid import Grid\n",
    "from case import Case\n",
    "from model import State, SingleColumnModel\n",
    "\n",
    "\n",
    "# KATO philipsn model\n",
    "grid = Grid.linear(20, 50)\n",
    "nt = 100\n",
    "dt = 30.\n",
    "out_dt = 30.\n",
    "state0 = State(grid)\n",
    "state0 = state0.init_all()\n",
    "state0 = state0.init_t(hmxl=0., t_sfc=16.)\n",
    "state0 = state0.init_s(hmxl=100)\n",
    "case = Case(lat=0., tflx_sfc_W=0., u_wind=1e-2) # KP\n",
    "model = SingleColumnModel(nt, dt, out_dt, grid, state0, case, 'k-epsilon')"
   ]
  },
  {
   "cell_type": "markdown",
   "metadata": {},
   "source": [
    "# References\n",
    "1. Kato H, Phillips OM. On the penetration of a turbulent layer into stratified fluid. Journal of Fluid Mechanics. 1969;37(4):643-655. doi:10.1017/S0022112069000784"
   ]
  }
 ],
 "metadata": {
  "kernelspec": {
   "display_name": ".venv_cpu",
   "language": "python",
   "name": "python3"
  },
  "language_info": {
   "codemirror_mode": {
    "name": "ipython",
    "version": 3
   },
   "file_extension": ".py",
   "mimetype": "text/x-python",
   "name": "python",
   "nbconvert_exporter": "python",
   "pygments_lexer": "ipython3",
   "version": "3.12.4"
  }
 },
 "nbformat": 4,
 "nbformat_minor": 2
}
