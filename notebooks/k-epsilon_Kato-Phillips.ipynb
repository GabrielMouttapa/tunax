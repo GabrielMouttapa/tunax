{
 "cells": [
  {
   "cell_type": "markdown",
   "metadata": {},
   "source": [
    "In this notebook, we will demonstrate how to use _Tunax_ to calibrate the parameters of the $k-\\varepsilon$ closure model. Our approach utilizes a _perfect-model_ framework, based on the idealized Kato-Phillips [1] case. This case is characterized by the absence of heat flux and the presence of uniform zonal wind forcing.\n",
    "\n",
    "In a _perfect-model_ framework, the “observations” used for calibration are actually outputs from a model run, generated using a specific set of $k-\\varepsilon$ parameters. The goal is for _Tunax_ to successfully retrieve these original parameters through the calibration process."
   ]
  },
  {
   "cell_type": "code",
   "execution_count": 1,
   "metadata": {},
   "outputs": [],
   "source": [
    "## General importations\n",
    "import os\n",
    "import jax.numpy as jnp\n",
    "\n",
    "# add the source folder to import the Tunax modules\n",
    "os.chdir('../src')"
   ]
  },
  {
   "cell_type": "markdown",
   "metadata": {},
   "source": [
    "# Single column model run to create the database\n",
    "First, we will run the single column model that goes with _Tunax_, with the $k-\\varepsilon$ closure with some initial parameters and on the Kato-Phillips case to create our database of \"observations\".\n",
    "\n",
    "### Grid\n",
    "First we have to define the vertical grid on which we will work. We use the class `Grid` and the class method `linear` to create a regular grid with 100 points on a depth of 50 meters. This object contains in part the vector of the depths of the centers of the cells `zr` and the vector of the vector of the interfaces `zw`."
   ]
  },
  {
   "cell_type": "code",
   "execution_count": 2,
   "metadata": {},
   "outputs": [],
   "source": [
    "from grid import Grid\n",
    "grid = Grid.linear(100, 50)"
   ]
  },
  {
   "cell_type": "markdown",
   "metadata": {},
   "source": [
    "### Initial state\n",
    "The initial state for the Kato-Phillips idealized case is defind by zero velocities, a fully stratified temperature and a constant salinity. The class `State` represent the state of the water column at one time, which means the tempetature, the salinity and the horizontal velocities. This object also contains the variables linked to the turbulence used in the integration of the model, like the eddy-diffusivity àkv`for example. Each one defined on the specific vertical grid that we defined. To built our initial state we follow these steps\n",
    "1. we initialize a `State` object defined on our `grid`, every variable is set to 0\n",
    "2. we initialize all the variables to the default values with the method `init_all`\n",
    "3. we reinitialize the temparature and the salinity to our specific case with `init_t` and `init_s` (note that we use the default slope of the stratification for the temperature)"
   ]
  },
  {
   "cell_type": "code",
   "execution_count": 3,
   "metadata": {},
   "outputs": [],
   "source": [
    "from model import State\n",
    "state0 = State(grid)\n",
    "state0 = state0.init_all()\n",
    "state0 = state0.init_t(hmxl=0., t_sfc=16.)\n",
    "state0 = state0.init_s(hmxl=100)"
   ]
  },
  {
   "cell_type": "markdown",
   "metadata": {},
   "source": [
    "### Kato-Phillips physical case\n",
    "Here we will initialize the physical case of our Kato-Phillips experiments, which as we said correspond to no heat flux and a constant zonal wind of $0.01 \\text m \\cdot \\text s ^{-1}$. The class `Case` contains all the physical parameters for a run of the model, like the latitude of the water column `lat` or the wind velocity `u_wind` when it's constant for example. The parameters that we don't modified are already the default values on the Kato-Phillips case."
   ]
  },
  {
   "cell_type": "code",
   "execution_count": 4,
   "metadata": {},
   "outputs": [
    {
     "data": {
      "text/plain": [
       "Case(\n",
       "  rho0=1024.0,\n",
       "  grav=9.81,\n",
       "  cp=3985.0,\n",
       "  alpha=0.0002,\n",
       "  beta=0.0002,\n",
       "  t_ref=2.0,\n",
       "  s_ref=35.0,\n",
       "  fcor=f32[],\n",
       "  ustr_sfc=0.0001,\n",
       "  ustr_btm=0.0,\n",
       "  vstr_sfc=0.0,\n",
       "  vstr_btm=0.0,\n",
       "  tflx_sfc=0.0,\n",
       "  tflx_btm=0.0,\n",
       "  sflx_sfc=0.0,\n",
       "  sflx_btm=0.0,\n",
       "  rflx_sfc_max=0.0,\n",
       "  do_diurnal_cycle=False\n",
       ")"
      ]
     },
     "execution_count": 4,
     "metadata": {},
     "output_type": "execute_result"
    }
   ],
   "source": [
    "from case import Case\n",
    "case = Case(lat=0., tflx_sfc_W=0., u_wind=1e-2)\n",
    "case"
   ]
  },
  {
   "cell_type": "markdown",
   "metadata": {},
   "source": [
    "### Initialization of the model\n",
    "Now that we have a initial condition, a grid and a physical case, we can defined the model instance with the class `SingleColumnModel`. For that we need to add the number of time steps that we need `nt`, the duration of one time step `dt` the time step between 2 steps of the output `out_dt`, and last but not least, the name of the closure that we will use, here it's `'k-epsilon'`. Here we do a simulation of $30 \\text h$."
   ]
  },
  {
   "cell_type": "code",
   "execution_count": 5,
   "metadata": {},
   "outputs": [],
   "source": [
    "from model import SingleColumnModel\n",
    "nt = 3600\n",
    "dt = 300.\n",
    "out_dt = 300.\n",
    "model = SingleColumnModel(nt, dt, out_dt, grid, state0, case, 'k-epsilon')"
   ]
  },
  {
   "cell_type": "markdown",
   "metadata": {},
   "source": [
    "### Closure parameters\n",
    "The $k-\\varepsilon$ closure is included in the _Tunax_ sources. One can find it in `src/closures/k_eppsilon.py`. I will come back on the abstract way to define a closure for _Tunax_, here we will just initialize the parameters of $k-\\varepsilon$ with their default values. For that we need to use the `CLOSURES_REGISTRY` which contains all the closures defined as abstract closures. For each one, the attribute `parameters_class` is a class that allows us to manipulate the parameters of a closure."
   ]
  },
  {
   "cell_type": "code",
   "execution_count": 6,
   "metadata": {},
   "outputs": [
    {
     "data": {
      "text/plain": [
       "KepsParameters(\n",
       "  a1=0.26666666666999994,\n",
       "  a2=0.016000000000000014,\n",
       "  a3=0.43200000000000005,\n",
       "  nn=2.5,\n",
       "  sf_d0=19913.90625,\n",
       "  sf_d1=5087.266065,\n",
       "  sf_d2=571.8541632000001,\n",
       "  sf_d3=103.99548235898882,\n",
       "  sf_d4=172.800648,\n",
       "  sf_d5=-0.6715392000000003,\n",
       "  sf_n0=2124.1500000265514,\n",
       "  sf_n1=345.2849136057119,\n",
       "  sf_n2=-2.40000000003,\n",
       "  sf_nb0=2231.25,\n",
       "  sf_nb1=90.0,\n",
       "  sf_nb2=17.66630399938841,\n",
       "  lim_am0=42300123.961466245,\n",
       "  lim_am1=17682087.61118832,\n",
       "  lim_am2=2123610.720196583,\n",
       "  lim_am3=59665.45681569103,\n",
       "  lim_am4=1214704.020776464,\n",
       "  lim_am5=418354.61919118604,\n",
       "  lim_am6=35908.07114170779\n",
       ")"
      ]
     },
     "execution_count": 6,
     "metadata": {},
     "output_type": "execute_result"
    }
   ],
   "source": [
    "from closures_registry import CLOSURES_REGISTRY\n",
    "KepsParamsClass = CLOSURES_REGISTRY['k-epsilon'].parameters_class\n",
    "keps_default_params = KepsParamsClass()\n",
    "keps_default_params"
   ]
  },
  {
   "cell_type": "markdown",
   "metadata": {},
   "source": [
    "### Run the model\n",
    "Now we can run our model with these default values of $k-\\varepsilon$ parameters. The run don't modify the `model` instance (as long as we use _JAX_ which don't allow in place modification) but returns a object of the class `Trajectory`. This class is simply the set of the timeseries of the velocities and the tracers. It's like a _pandas_ dataframe but defined with _JAX_."
   ]
  },
  {
   "cell_type": "code",
   "execution_count": 7,
   "metadata": {},
   "outputs": [
    {
     "data": {
      "text/plain": [
       "Trajectory(\n",
       "  grid=Grid(nz=100, h=f32[], zr=f32[100], zw=f32[101], hz=f32[100]),\n",
       "  time=f32[360],\n",
       "  u=f32[360,100],\n",
       "  v=f32[360,100],\n",
       "  t=f32[360,100],\n",
       "  s=f32[360,100]\n",
       ")"
      ]
     },
     "execution_count": 7,
     "metadata": {},
     "output_type": "execute_result"
    }
   ],
   "source": [
    "trajectory_obs = model.compute_trajectory_with(keps_default_params)\n",
    "trajectory_obs"
   ]
  },
  {
   "cell_type": "markdown",
   "metadata": {},
   "source": [
    "The time dimension of these vectors is 360 because we asked the model for an output time step of $300 \\text s$ during $30 \\text h$. We can plot the initial and final states of this experience. And we can notice that only the temperature $T$ and the zonal velocity $u$ are mostly affected by the Kato-Phillips case."
   ]
  },
  {
   "cell_type": "code",
   "execution_count": 8,
   "metadata": {},
   "outputs": [
    {
     "data": {
      "image/png": "[encoded data removed]",
      "text/plain": [
       "<Figure size 1000x400 with 4 Axes>"
      ]
     },
     "metadata": {},
     "output_type": "display_data"
    }
   ],
   "source": [
    "import matplotlib.pyplot as plt\n",
    "\n",
    "zr = model.grid.zr\n",
    "\n",
    "fig, [ax_t, ax_s, ax_u, ax_v] = plt.subplots(1, 4, sharey=True, figsize=(10, 4))\n",
    "plt.tight_layout()\n",
    "\n",
    "ax_t.plot(trajectory_obs.t[0, :], zr, 'k', label='initial state')\n",
    "ax_t.plot(trajectory_obs.t[-1, :], zr, 'r--', label='final state')\n",
    "ax_s.plot(trajectory_obs.s[0, :], zr, 'k')\n",
    "ax_s.plot(trajectory_obs.s[360, :], zr, 'r--')\n",
    "ax_u.plot(trajectory_obs.u[0, :], zr, 'k')\n",
    "ax_u.plot(trajectory_obs.u[-1, :], zr, 'r--')\n",
    "ax_v.plot(trajectory_obs.v[0, :], zr, 'k')\n",
    "ax_v.plot(trajectory_obs.v[-1, :], zr, 'r--')\n",
    "\n",
    "ax_t.set_title('$T$')\n",
    "ax_s.set_title('$S$')\n",
    "ax_u.set_title('$u$')\n",
    "ax_v.set_title('$v$')\n",
    "\n",
    "ax_t.set_ylabel('$z$')\n",
    "\n",
    "ax_t.legend()\n",
    "\n",
    "plt.show()"
   ]
  },
  {
   "cell_type": "markdown",
   "metadata": {},
   "source": [
    "# Calibration parameters\n",
    "Now that we have a timeseries to do our calibration, we can prepare this calibration.\n",
    "\n",
    "### Observation database\n",
    "First, we can transform our timeseries into an object which is understable by our salibration algorithm. Here we just convert the `Trajectory` object into a _pandas_ dataset and then into an `Obs` object to create a set of obervation `ObsSet`. These abstractions are not really needed here, but will be usefull when we will use a large set of observations to do the calibration."
   ]
  },
  {
   "cell_type": "code",
   "execution_count": 9,
   "metadata": {},
   "outputs": [],
   "source": [
    "from database import ObsSet, Obs\n",
    "ds_obs = trajectory_obs.to_ds()\n",
    "obs = Obs(ds_obs)\n",
    "obs_set = ObsSet([obs])"
   ]
  },
  {
   "cell_type": "markdown",
   "metadata": {},
   "source": [
    "### Parameters to calibrate\n",
    "To define what parameters of our closure we are going to calibrate, we use the class `FittableParameter` which describes for one parameter if we fit it or not and the rules for the calibration in this case, and the class `FittableParametersSet` which represent the set of all the parameters of the closure and the way to calibrate them. Here we calibrate only the parameter $c_1$ of $k-\\varepsilon$, the initial value during the calibration is 7 and it's bounded by 3 and 10. The other parameters are set to the default ones. The default value of $c_1$ used previously in the perfect model is 5, so we expect the value of 7 decrease to 5 during the calibration."
   ]
  },
  {
   "cell_type": "code",
   "execution_count": 10,
   "metadata": {},
   "outputs": [],
   "source": [
    "from fitter import FittableParameter, FittableParametersSet\n",
    "c1_par = FittableParameter(True, min_bound=3., max_bound=10., init_val=7.)\n",
    "coef_fit_params = FittableParametersSet({'c1': c1_par}, 'k-epsilon')"
   ]
  },
  {
   "cell_type": "markdown",
   "metadata": {},
   "source": [
    "### Loss function\n",
    "Then we have to define the loss function used in the calibration. This loss function must have the signature `Callable[[], Trajectory], ObsSet -> float` and the output should be positive. Here we take the suared $L_2$ norm of all the timeseries on the temperature. The abstract function `model` represent the run of the model with one set of parameters of the closure, at each iteration of the calibration, the loss function will be computed with a specific set of parameters. **à clarifier**."
   ]
  },
  {
   "cell_type": "code",
   "execution_count": 11,
   "metadata": {},
   "outputs": [],
   "source": [
    "def loss(model, obs_set):\n",
    "    ds_obs = obs_set.observations[0].variables\n",
    "    t_obs = jnp.array(ds_obs['t'])\n",
    "    traj = model()\n",
    "    return  jnp.sum((traj.t-t_obs)**2)"
   ]
  },
  {
   "cell_type": "markdown",
   "metadata": {},
   "source": [
    "### Definition of the fitter\n",
    "Adding some parametes for the calibration, we can define a \"fitter\" with the class `Fitter`. And call it to run the calibration."
   ]
  },
  {
   "cell_type": "code",
   "execution_count": 12,
   "metadata": {},
   "outputs": [
    {
     "name": "stdout",
     "output_type": "stream",
     "text": [
      "\n",
      "                    loop 0\n",
      "                    x [6.0000067]\n",
      "                    grads [10.557207]\n",
      "                \n",
      "\n",
      "                    loop 1\n",
      "                    x [5.0160656]\n",
      "                    grads [8.03836]\n",
      "                \n",
      "\n",
      "                    loop 2\n",
      "                    x [4.24689]\n",
      "                    grads [0.17956698]\n",
      "                \n",
      "\n",
      "                    loop 3\n",
      "                    x [4.097928]\n",
      "                    grads [-10.097944]\n",
      "                \n"
     ]
    },
    {
     "name": "stderr",
     "output_type": "stream",
     "text": [
      "Exception ignored in: <bound method IPythonKernel._clean_thread_parent_frames of <ipykernel.ipkernel.IPythonKernel object at 0x103c02330>>\n",
      "Traceback (most recent call last):\n",
      "  File \"/Users/admin-mouttaga/Codes/tunax/.venv_cpu/lib/python3.12/site-packages/ipykernel/ipkernel.py\", line 775, in _clean_thread_parent_frames\n",
      "    def _clean_thread_parent_frames(\n",
      "\n",
      "KeyboardInterrupt: \n"
     ]
    }
   ],
   "source": [
    "from fitter import Fitter\n",
    "nloop = 10\n",
    "learning_rate = 1\n",
    "verbatim = True\n",
    "f = Fitter(coef_fit_params, nloop, model, obs_set, learning_rate, verbatim, loss)\n",
    "clo_parf = f()"
   ]
  },
  {
   "cell_type": "code",
   "execution_count": null,
   "metadata": {},
   "outputs": [],
   "source": [
    "\n",
    "                    loop 0\n",
    "                    x [6.0000067]\n",
    "                    grads [10.557207]\n",
    "                \n",
    "\n",
    "                    loop 1\n",
    "                    x [5.0160656]\n",
    "                    grads [8.03836]\n",
    "                \n",
    "\n",
    "                    loop 2\n",
    "                    x [4.24689]\n",
    "                    grads [0.17956698]\n",
    "                \n",
    "\n",
    "                    loop 3\n",
    "                    x [4.097928]\n",
    "                    grads [-10.097944]\n",
    "                \n"
   ]
  },
  {
   "cell_type": "markdown",
   "metadata": {},
   "source": [
    "# References\n",
    "1. Kato H, Phillips OM. On the penetration of a turbulent layer into stratified fluid. Journal of Fluid Mechanics. 1969;37(4):643-655. doi:10.1017/S0022112069000784"
   ]
  }
 ],
 "metadata": {
  "kernelspec": {
   "display_name": ".venv_cpu",
   "language": "python",
   "name": "python3"
  },
  "language_info": {
   "codemirror_mode": {
    "name": "ipython",
    "version": 3
   },
   "file_extension": ".py",
   "mimetype": "text/x-python",
   "name": "python",
   "nbconvert_exporter": "python",
   "pygments_lexer": "ipython3",
   "version": "3.12.4"
  }
 },
 "nbformat": 4,
 "nbformat_minor": 2
}
